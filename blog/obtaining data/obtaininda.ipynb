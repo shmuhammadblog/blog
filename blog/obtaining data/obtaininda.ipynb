{
 "cells": [
  {
   "cell_type": "raw",
   "metadata": {},
   "source": [
    "---\n",
    "title: \"Using command Line to Obtain Data\"\n",
    "format: \n",
    "  html:\n",
    "    code-fold: false\n",
    "categories:   \n",
    "  - data science\n",
    "  - unix\n",
    "description: \" This blog explain how to use command line tools to obtain data from the internet. \"\n",
    "\n",
    "\n",
    "\n",
    "image: terminal.png\n",
    "date: \"2022-06-01\"\n",
    "draft: false\n",
    "---"
   ]
  },
  {
   "cell_type": "markdown",
   "metadata": {},
   "source": [
    "> Data can be obtained in several ways—for example by downloading it from a server, querying a database, or connecting to a Web API. Sometimes, the data comes in a compressed form or in a binary format such as a Microsoft Excel Spreadsheet. Tools such as curl, tar, wget, csvtool and others can be used to download data. ---Data Science at command Line \n",
    "\n"
   ]
  },
  {
   "cell_type": "markdown",
   "metadata": {},
   "source": [
    "![](terminal2.png)"
   ]
  },
  {
   "cell_type": "markdown",
   "metadata": {},
   "source": [
    "## Downloading from the Internet using Curl"
   ]
  },
  {
   "cell_type": "markdown",
   "metadata": {},
   "source": [
    "**Curl** and **wget** are command line tools that allows you to download files from the Internet. curl and wget are installed by default on most Linux systems. if you do not have either tool installed, you can use the commands below to install curl and wget on Ubuntu.\n",
    "\n",
    "```bash\n",
    "   sudo apt install curl\n",
    "   sudo apt install wget\n",
    "``` \n",
    "If you are using a Mac, you can install curl and wget using the following commands:\n",
    "\n",
    "```bash\n",
    "    brew install curl\n",
    "    brew install wget\n",
    "```\n",
    "\n",
    "#### How to Use Curl #\n",
    "\n",
    "The curl syntax is : curl [options] [URL...]. In its simplest form, curl is used to download a file from the Internet without any options.\n",
    "\n",
    "```bash\n",
    "    curl example.com\n",
    "```\n",
    "\n",
    "The above example, curl displays the contents of the file to the standard output. The command above will download and print the source code of the example.com homepage in your terminal window.\n",
    "\n",
    "#### Save the Output to a File \n",
    "\n",
    "We can use the -o option to save the output to a file.\n",
    "\n",
    "```bash\n",
    "    curl -o example.html example.com\n",
    "```\n",
    "\n",
    "The above example will save the output to a file named example.html instead of printing it to the terminal. You can also redirect the output to a file using the > operator.\n",
    "\n",
    "```bash\n",
    "    curl -o example.com > example.html\n",
    "```\n",
    "\n",
    "We can also use O (uppercase) to save to original file name\n",
    "\n",
    "```bash\n",
    "\n",
    "   curl -O example.com\n",
    "\n",
    "```\n",
    "The above example will save the output to a file named example.com instead of printing it to the terminal.\n",
    "\n",
    "\n",
    "Sometimes, it’s a good idea to set the verbose mode on. This may provide useful information about the progress of the download.\n",
    "\n",
    "```bash\n",
    "\n",
    "curl -v example.com\n",
    "\n",
    "```\n",
    "\n",
    "curl outputs a progress meter that shows the download rate and the expected time of completion. You can also use the -s option to hide the progress meter and the progress.\n",
    "\n",
    "```bash\n",
    "curl -s example.com\n",
    "\n",
    "```\n",
    "\n",
    "#### Following Redirects \n",
    "\n",
    "When accessing shortened URL with curl, such as: http://bit.ly/, we need to set the -L option to automatically follow redirects\n",
    "    \n",
    "```bash\n",
    "    curl -L http://bit.ly/\n",
    "```\n"
   ]
  },
  {
   "cell_type": "markdown",
   "metadata": {},
   "source": [
    "## Tar and Unzip"
   ]
  }
 ],
 "metadata": {
  "interpreter": {
   "hash": "895aa688263384567493505d09875376e7685297a6922210da729f70c5caa3cf"
  },
  "kernelspec": {
   "display_name": "Python 3.9.12 ('datascience')",
   "language": "python",
   "name": "python3"
  },
  "language_info": {
   "codemirror_mode": {
    "name": "ipython",
    "version": 3
   },
   "file_extension": ".py",
   "mimetype": "text/x-python",
   "name": "python",
   "nbconvert_exporter": "python",
   "pygments_lexer": "ipython3",
   "version": "3.9.12"
  },
  "orig_nbformat": 4
 },
 "nbformat": 4,
 "nbformat_minor": 2
}
