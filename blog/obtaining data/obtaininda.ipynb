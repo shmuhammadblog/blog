{
 "cells": [
  {
   "cell_type": "raw",
   "metadata": {},
   "source": [
    "---\n",
    "title: \"Obtaining data using command line\"\n",
    "format: \n",
    "  html:\n",
    "    code-fold: false\n",
    "categories:   \n",
    "  - data science\n",
    "  - unix\n",
    "description: \"This blog demonstrates how to use the command line to obtain data from the web using: curl, xxx,xxxxxx,,xxxxx,\"\n",
    "image: terminal.png\n",
    "date: \"2022-05-01\"\n",
    "draft: false\n",
    "---"
   ]
  },
  {
   "cell_type": "markdown",
   "metadata": {},
   "source": [
    "# Use of Curl, tar and wget"
   ]
  },
  {
   "cell_type": "markdown",
   "metadata": {},
   "source": [
    "> Data can be obtained in several ways—for example by downloading it from a server, querying a database, or connecting to a Web API. Sometimes, the data comes in a compressed form or in a binary format such as a Microsoft Excel Spreadsheet. In this chapter, I discuss several tools that help tackle this from the command line, including: curl33, in2csv34, sql2csv35, and tar36.\n",
    "\n"
   ]
  },
  {
   "cell_type": "markdown",
   "metadata": {},
   "source": [
    "<center>\n",
    "\n",
    "![](./images/book_pic.png) \n",
    "\n",
    "</center>"
   ]
  },
  {
   "cell_type": "markdown",
   "metadata": {},
   "source": [
    "### Copying Local Files to the Docker Container"
   ]
  },
  {
   "cell_type": "markdown",
   "metadata": {},
   "source": [
    "- Before we copy file to the container, Let us create a directory in the container.\n",
    "- find the container ID we want copy file to \n",
    "- copy the file to the container using cp command\n",
    "- check the file in the container"
   ]
  },
  {
   "cell_type": "code",
   "execution_count": 1,
   "metadata": {
    "vscode": {
     "languageId": "shellscript"
    }
   },
   "outputs": [
    {
     "name": "stdout",
     "output_type": "stream",
     "text": [
      "CONTAINER ID   IMAGE                         COMMAND          CREATED       STATUS       PORTS     NAMES\n",
      "f49bee0d702d   datasciencetoolbox/dsatcl2e   \"/usr/bin/zsh\"   3 hours ago   Up 3 hours             heuristic_proskuriakova\n"
     ]
    }
   ],
   "source": [
    "!docker ps"
   ]
  }
 ],
 "metadata": {
  "interpreter": {
   "hash": "895aa688263384567493505d09875376e7685297a6922210da729f70c5caa3cf"
  },
  "kernelspec": {
   "display_name": "Python 3.9.12 ('datascience')",
   "language": "python",
   "name": "python3"
  },
  "language_info": {
   "codemirror_mode": {
    "name": "ipython",
    "version": 3
   },
   "file_extension": ".py",
   "mimetype": "text/x-python",
   "name": "python",
   "nbconvert_exporter": "python",
   "pygments_lexer": "ipython3",
   "version": "3.9.12"
  },
  "orig_nbformat": 4
 },
 "nbformat": 4,
 "nbformat_minor": 2
}
