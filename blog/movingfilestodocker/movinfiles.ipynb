{
 "cells": [
  {
   "cell_type": "raw",
   "metadata": {},
   "source": [
    "---\n",
    "title: \"Moving files to and from a docker containers\"\n",
    "format: \n",
    "  html:\n",
    "    code-fold: false\n",
    "categories:   \n",
    "  - data science\n",
    "  - unix\n",
    "description: \" This blog explain how to move files from and to Docker containers. \"\n",
    "image: docker.png\n",
    "date: \"2022-06-01\"\n",
    "draft: false\n",
    "---"
   ]
  },
  {
   "cell_type": "markdown",
   "metadata": {},
   "source": [
    "## How to copy files to and from Docker Container to Host\n",
    "\n",
    "You can use the `docker cp` command to copy files from the host to the container or vice versa.\n",
    "\n",
    "\n",
    "### Copy files from the host to the container\n",
    "\n",
    "```bash\n",
    "docker cp /path/to/file/in/host/   container_id:/path/to/file/in/container\n",
    "\n",
    "```\n",
    "\n",
    "\n",
    "### Copy files from the container to the host\n",
    "\n",
    "```bash\n",
    "docker cp container_id:/path/to/file/in/container/   /path/to/file/in/host/\n",
    "```\n",
    "\n",
    "### copy file from a container to another container\n",
    "\n",
    "```bash\n",
    "docker cp container_id:/path/to/file/in/container/   container_id:/path/to/file/in/container/\n",
    "\n",
    "```\n"
   ]
  }
 ],
 "metadata": {
  "interpreter": {
   "hash": "895aa688263384567493505d09875376e7685297a6922210da729f70c5caa3cf"
  },
  "kernelspec": {
   "display_name": "Python 3.9.12 ('datascience')",
   "language": "python",
   "name": "python3"
  },
  "language_info": {
   "codemirror_mode": {
    "name": "ipython",
    "version": 3
   },
   "file_extension": ".py",
   "mimetype": "text/x-python",
   "name": "python",
   "nbconvert_exporter": "python",
   "pygments_lexer": "ipython3",
   "version": "3.9.12"
  },
  "orig_nbformat": 4
 },
 "nbformat": 4,
 "nbformat_minor": 2
}
